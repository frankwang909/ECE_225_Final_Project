{
 "cells": [
  {
   "cell_type": "markdown",
   "metadata": {},
   "source": [
    "<center><h1>PUBG Player's Data Analysis and Placement Prediction</h1></center>\n",
    "<center><h2>Fan Wang &nbsp;&nbsp;Bolun Yan </h2></center>\n",
    "<center><h2>A53277514 &nbsp;&nbsp;A92413094 </h2></center>"
   ]
  },
  {
   "cell_type": "code",
   "execution_count": 1,
   "metadata": {},
   "outputs": [],
   "source": [
    "# preparation\n",
    "import numpy as py\n",
    "import pandas as pd\n",
    "import matplotlib.pyplot as plt\n",
    "import warnings\n",
    "warnings.filterwarnings(\"ignore\")"
   ]
  },
  {
   "cell_type": "markdown",
   "metadata": {},
   "source": [
    "<h1>Part 1 - Data Pre-process </h1>"
   ]
  },
  {
   "cell_type": "code",
   "execution_count": 2,
   "metadata": {},
   "outputs": [
    {
     "name": "stdout",
     "output_type": "stream",
     "text": [
      "(4446966, 29)\n"
     ]
    }
   ],
   "source": [
    "# read data\n",
    "train = pd.read_csv('data/train_v2.csv')\n",
    "print(train.shape)"
   ]
  },
  {
   "cell_type": "code",
   "execution_count": 17,
   "metadata": {},
   "outputs": [
    {
     "name": "stdout",
     "output_type": "stream",
     "text": [
      "['Id', 'groupId', 'matchId', 'assists', 'boosts', 'damageDealt', 'DBNOs', 'headshotKills', 'heals', 'killPlace', 'killPoints', 'kills', 'killStreaks', 'longestKill', 'matchDuration', 'matchType', 'maxPlace', 'numGroups', 'rankPoints', 'revives', 'rideDistance', 'roadKills', 'swimDistance', 'teamKills', 'vehicleDestroys', 'walkDistance', 'weaponsAcquired', 'winPoints', 'winPlacePerc']\n"
     ]
    }
   ],
   "source": [
    "# show columns name\n",
    "columns = list(train.columns.values)\n",
    "print(columns)"
   ]
  },
  {
   "cell_type": "code",
   "execution_count": 73,
   "metadata": {},
   "outputs": [
    {
     "name": "stdout",
     "output_type": "stream",
     "text": [
      "Information Table for Numerical Data:\n",
      "                    type      count         mean          std  min      max\n",
      "assists            int64  4446966.0     0.233815     0.588573  0.0     22.0\n",
      "boosts             int64  4446966.0     1.106908     1.715794  0.0     33.0\n",
      "damageDealt      float64  4446966.0   130.717138   170.780621  0.0   6616.0\n",
      "DBNOs              int64  4446966.0     0.657876     1.145743  0.0     53.0\n",
      "headshotKills      int64  4446966.0     0.226820     0.602155  0.0     64.0\n",
      "heals              int64  4446966.0     1.370147     2.679982  0.0     80.0\n",
      "killPlace          int64  4446966.0    47.599350    27.462937  1.0    101.0\n",
      "killPoints         int64  4446966.0   505.006042   627.504896  0.0   2170.0\n",
      "kills              int64  4446966.0     0.924783     1.558445  0.0     72.0\n",
      "killStreaks        int64  4446966.0     0.543955     0.710972  0.0     20.0\n",
      "longestKill      float64  4446966.0    22.997595    50.972619  0.0   1094.0\n",
      "matchDuration      int64  4446966.0  1579.506440   258.739856  9.0   2237.0\n",
      "maxPlace           int64  4446966.0    44.504670    23.828105  1.0    100.0\n",
      "numGroups          int64  4446966.0    43.007593    23.289495  1.0    100.0\n",
      "rankPoints         int64  4446966.0   892.010457   736.647779 -1.0   5910.0\n",
      "revives            int64  4446966.0     0.164659     0.472167  0.0     39.0\n",
      "rideDistance     float64  4446966.0   606.115669  1498.343513  0.0  40710.0\n",
      "roadKills          int64  4446966.0     0.003496     0.073373  0.0     18.0\n",
      "swimDistance     float64  4446966.0     4.509322    30.502199  0.0   3823.0\n",
      "teamKills          int64  4446966.0     0.023868     0.167394  0.0     12.0\n",
      "vehicleDestroys    int64  4446966.0     0.007918     0.092612  0.0      5.0\n",
      "walkDistance     float64  4446966.0  1154.217859  1183.497042  0.0  25780.0\n",
      "weaponsAcquired    int64  4446966.0     3.660488     2.456544  0.0    236.0\n",
      "winPoints          int64  4446966.0   606.460131   739.700444  0.0   2013.0\n",
      "winPlacePerc     float64  4446965.0     0.472822     0.307405  0.0      1.0\n",
      "\n",
      "\n",
      "Information Table for Non-numerical Data:\n",
      "Column \"Id\" (object) has total 4446966 records with 4446966 of unique datas.\n",
      "Column \"groupId\" (object) has total 4446966 records with 2026745 of unique datas.\n",
      "Column \"matchId\" (object) has total 4446966 records with 47965 of unique datas.\n",
      "Column \"matchType\" (object) has total 4446966 records with 16 of unique datas.\n"
     ]
    }
   ],
   "source": [
    "# generate info table\n",
    "# numerical data\n",
    "info_table = train.describe().T # This will ignore the non-numerical data type i.e object & string\n",
    "type_list = [train[col].dtype for col in info_table.index.to_list()]\n",
    "info_table['type'] = type_list\n",
    "info_table = info_table[['type', 'count', 'mean', 'std', 'min', 'max']]\n",
    "print('Information Table for Numerical Data:')\n",
    "print(info_table)\n",
    "\n",
    "# non-numerical data\n",
    "print('\\n\\nInformation Table for Non-numerical Data:')\n",
    "non_numerical_columns = ['Id', 'groupId', 'matchId', 'matchType',]\n",
    "for col in non_numerical_columns:\n",
    "    print(f'Column \\\"{col}\\\" ({train[col].dtypes}) has total {train[col].count()} records with {train[col].nunique()} of unique datas.')"
   ]
  },
  {
   "cell_type": "markdown",
   "metadata": {},
   "source": [
    "- **groupId** - Integer ID to identify a group within a match. If the same group of players plays in different matches, they will have a different groupId each time.\n",
    "- **matchId** - Integer ID to identify match. There are no matches that are in both the training and testing set.\n",
    "- **assists** - Number of enemy players this player damaged that were killed by teammates.\n",
    "- **boosts** - Number of boost items used.\n",
    "- **damageDealt** - Total damage dealt. Note: Self inflicted damage is subtracted.\n",
    "- **DBNOs** - Number of enemy players knocked.\n",
    "- **headshotKills** - Number of enemy players killed with headshots.\n",
    "- **heals** - Number of healing items used.\n",
    "- **killPlace** - Ranking in match of number of enemy players killed.\n",
    "- **killPoints** - Kills-based external ranking of player. (Think of this as an Elo ranking where only kills matter.)\n",
    "- **kills** - Number of enemy players killed.\n",
    "- **killStreaks** - Max number of enemy players killed in a short amount of time.\n",
    "- **longestKill** - Longest distance between player and player killed at time of death. This may be misleading, as downing a - player and driving away may lead to a large longestKill stat.\n",
    "- **maxPlace** - Worst placement we have data for in the match. This may not match with numGroups, as sometimes the data skips over placements.\n",
    "- **numGroups** - Number of groups we have data for in the match.\n",
    "- **revives** - Number of times this player revived teammates.\n",
    "- **rideDistance** - Total distance traveled in vehicles measured in meters.\n",
    "- **roadKills** - Number of kills while in a vehicle.\n",
    "- **swimDistance** - Total distance traveled by swimming measured in meters.\n",
    "- **teamKills** - Number of times this player killed a teammate.\n",
    "- **vehicleDestroys** - Number of vehicles destroyed.\n",
    "- **walkDistance** - Total distance traveled on foot measured in meters.\n",
    "- **weaponsAcquired** - Number of weapons picked up.\n",
    "- **winPoints** - Win-based external ranking of player. (Think of this as an Elo ranking where only winning matters.)\n",
    "- **winPlacePerc** - The target of prediction. This is a percentile winning placement, where 1 corresponds to 1st place, and 0 corresponds to last place in the match. It is calculated off of maxPlace, not numGroups, so it is possible to have missing chunks in a match."
   ]
  },
  {
   "cell_type": "code",
   "execution_count": 74,
   "metadata": {},
   "outputs": [
    {
     "name": "stdout",
     "output_type": "stream",
     "text": [
      "['squad-fpp', 'duo', 'solo-fpp', 'squad', 'duo-fpp', 'solo', 'normal-squad-fpp', 'crashfpp', 'flaretpp', 'normal-solo-fpp', 'flarefpp', 'normal-duo-fpp', 'normal-duo', 'normal-squad', 'crashtpp', 'normal-solo']\n"
     ]
    }
   ],
   "source": [
    "print(list(train['matchType'].unique()))"
   ]
  },
  {
   "cell_type": "code",
   "execution_count": 82,
   "metadata": {},
   "outputs": [
    {
     "name": "stdout",
     "output_type": "stream",
     "text": [
      "Original records number: 4446966\n",
      "Records number after delete the record where \"kill\" > 35: 4446898\n",
      "Records number after delete the unnormal / crashed matchtype: 4437017\n"
     ]
    }
   ],
   "source": [
    "# filter & clean data\n",
    "cleaned_data = train.copy(deep=True)\n",
    "print(f'Original records number: {cleaned_data.shape[0]}')\n",
    "\n",
    "# delete the record where \"kill\" > 35 (cheating / hack)\n",
    "cleaned_data = cleaned_data[cleaned_data['kills'] < 35].copy(deep=True)\n",
    "print(f'Records number after delete the record where \"kill\" > 35: {cleaned_data.shape[0]}')\n",
    "\n",
    "# delete the unnormal / crashed matchtype\n",
    "normal_match_types = ['solo', 'solo-fpp', 'normal-solo', 'normal-solo-fpp',\n",
    "                      'duo', 'duo-fpp', 'normal-duo', 'normal-duo-fpp',\n",
    "                      'squad','squad-fpp', 'normal-squad-fpp',  'normal-squad']\n",
    "cleaned_data = cleaned_data[cleaned_data['matchType'].isin(normal_match_types)].copy(deep=True)\n",
    "print(f'Records number after delete the unnormal / crashed matchtype: {cleaned_data.shape[0]}')"
   ]
  },
  {
   "cell_type": "code",
   "execution_count": 84,
   "metadata": {},
   "outputs": [
    {
     "name": "stdout",
     "output_type": "stream",
     "text": [
      "There are 709015 (15.94%) solo games, 3287713 (73.93%) duo games and 440289 (9.90%) squad games.\n"
     ]
    }
   ],
   "source": [
    "# split the data according to mathtype solo / duo / squad\n",
    "solos = cleaned_data[cleaned_data['numGroups']>50]\n",
    "duos = cleaned_data[(cleaned_data['numGroups']>25) & (cleaned_data['numGroups']<=50)]\n",
    "squads = cleaned_data[cleaned_data['numGroups']<=25]\n",
    "print(\"There are {} ({:.2f}%) solo games, {} ({:.2f}%) duo games and {} ({:.2f}%) squad games.\".format(len(solos), 100*len(solos)/len(train), len(duos), 100*len(duos)/len(train), len(squads), 100*len(squads)/len(train),))"
   ]
  },
  {
   "cell_type": "markdown",
   "metadata": {},
   "source": [
    "<h1> Part 2 - Data Visualization and Analysis </h1>"
   ]
  },
  {
   "cell_type": "markdown",
   "metadata": {},
   "source": [
    "<h1> Part 3 - Placement Prediction </h1>"
   ]
  },
  {
   "cell_type": "code",
   "execution_count": null,
   "metadata": {},
   "outputs": [],
   "source": []
  }
 ],
 "metadata": {
  "kernelspec": {
   "display_name": "Python 3",
   "language": "python",
   "name": "python3"
  },
  "language_info": {
   "codemirror_mode": {
    "name": "ipython",
    "version": 3
   },
   "file_extension": ".py",
   "mimetype": "text/x-python",
   "name": "python",
   "nbconvert_exporter": "python",
   "pygments_lexer": "ipython3",
   "version": "3.7.4"
  }
 },
 "nbformat": 4,
 "nbformat_minor": 2
}
